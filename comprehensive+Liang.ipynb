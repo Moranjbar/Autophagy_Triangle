{
 "cells": [
  {
   "cell_type": "markdown",
   "metadata": {},
   "source": [
    "#  importing pandas package\n"
   ]
  },
  {
   "cell_type": "code",
   "execution_count": 1,
   "metadata": {},
   "outputs": [],
   "source": [
    "import pandas as pd"
   ]
  },
  {
   "cell_type": "markdown",
   "metadata": {},
   "source": [
    "# Reading the ATG genes (comprehesive list) databse"
   ]
  },
  {
   "cell_type": "code",
   "execution_count": 2,
   "metadata": {},
   "outputs": [],
   "source": [
    "comprehensive = pd.read_excel('comprehensive + dark genes.xlsx',engine='openpyxl')\n"
   ]
  },
  {
   "cell_type": "markdown",
   "metadata": {},
   "source": [
    "# Reading the AD affected in Liang's databse and extracting the list of genes at different sheets"
   ]
  },
  {
   "cell_type": "code",
   "execution_count": 4,
   "metadata": {},
   "outputs": [],
   "source": [
    "AD_affected_EC=pd.read_excel('AD affected.xlsx',sheet_name='EC',engine='openpyxl')\n",
    "AD_affected_HIP=pd.read_excel('AD affected.xlsx',sheet_name='HIP',engine='openpyxl')\n",
    "AD_affected_PC=pd.read_excel('AD affected.xlsx',sheet_name='PC',engine='openpyxl')\n",
    "AD_affected_MTG=pd.read_excel('AD affected.xlsx',sheet_name='MTG',engine='openpyxl')\n",
    "AD_affected_SFG=pd.read_excel('AD affected.xlsx',sheet_name='SFG',engine='openpyxl')\n",
    "AD_affected_VCX=pd.read_excel('AD affected.xlsx',sheet_name='VCX',engine='openpyxl')\n",
    "AD_affected_EC=list(AD_affected_EC['symbol'])\n",
    "AD_affected_HIP=list(AD_affected_HIP['symbol'])\n",
    "AD_affected_PC=list(AD_affected_PC['symbol'])\n",
    "AD_affected_MTG=list(AD_affected_MTG['symbol'])\n",
    "AD_affected_SFG=list(AD_affected_SFG['symbol'])\n",
    "AD_affected_VCX=list(AD_affected_VCX['symbol'])"
   ]
  },
  {
   "cell_type": "markdown",
   "metadata": {},
   "source": [
    "# Filtering \"Liang (AD-Affected)\" in selecting rows with having the same gene with comprehensive list in a \"symbol\" column."
   ]
  },
  {
   "cell_type": "code",
   "execution_count": 14,
   "metadata": {},
   "outputs": [],
   "source": [
    "intresect_comprehensive_AD_affected_EC = comprehensive[comprehensive['symbol'].isin(AD_affected_EC)]\n",
    "intresect_comprehensive_AD_affected_HIP = comprehensive[comprehensive['symbol'].isin(AD_affected_HIP)]\n",
    "intresect_comprehensive_AD_affected_PC = comprehensive[comprehensive['symbol'].isin(AD_affected_PC)]\n",
    "intresect_comprehensive_AD_affected_MTG = comprehensive[comprehensive['symbol'].isin(AD_affected_MTG)]\n",
    "intresect_comprehensive_AD_affected_SFG= comprehensive[comprehensive['symbol'].isin(AD_affected_SFG)]\n",
    "intresect_comprehensive_AD_affected_VCX= comprehensive[comprehensive['symbol'].isin(AD_affected_VCX)]"
   ]
  },
  {
   "cell_type": "markdown",
   "metadata": {},
   "source": [
    "# Saving the filtering Liang( AD affected) based on comprehensive list"
   ]
  },
  {
   "cell_type": "code",
   "execution_count": 21,
   "metadata": {},
   "outputs": [],
   "source": [
    "writer = pd.ExcelWriter('AD-Affected+comprehnsive.xlsx', engine='xlsxwriter')\n",
    "intresect_comprehensive_AD_affected_EC.to_excel(writer, 'EC')\n",
    "intresect_comprehensive_AD_affected_HIP.to_excel(writer, 'HIP')\n",
    "intresect_comprehensive_AD_affected_PC.to_excel(writer, 'PC')\n",
    "intresect_comprehensive_AD_affected_MTG.to_excel(writer, 'MTG')\n",
    "intresect_comprehensive_AD_affected_SFG.to_excel(writer,'SFG')\n",
    "intresect_comprehensive_AD_affected_VCX.to_excel(writer,'VCX')\n",
    "writer.save()"
   ]
  },
  {
   "cell_type": "markdown",
   "metadata": {},
   "source": [
    "# Reading the Non demented in Liang's databse and extracting the list of genes at different sheets"
   ]
  },
  {
   "cell_type": "code",
   "execution_count": 22,
   "metadata": {},
   "outputs": [],
   "source": [
    "Non_demented_EC=pd.read_excel('Liang-non-demented.xlsx',sheet_name='entorhinal cortex',engine='openpyxl')\n",
    "Non_demented_HIP=pd.read_excel('Liang-non-demented.xlsx',sheet_name='hippocampus',engine='openpyxl')\n",
    "Non_demented_PC=pd.read_excel('Liang-non-demented.xlsx',sheet_name='middle temporal gyrus',engine='openpyxl')\n",
    "Non_demented_MTG=pd.read_excel('Liang-non-demented.xlsx',sheet_name='posterior cingulate corrtex',engine='openpyxl')\n",
    "Non_demented_SFG=pd.read_excel('Liang-non-demented.xlsx',sheet_name='superior frontal gyrus',engine='openpyxl')\n",
    "Non_demented_VCX=pd.read_excel('Liang-non-demented.xlsx',sheet_name='primary visual cortex',engine='openpyxl')\n",
    "Non_demented_EC=list(Non_demented_EC['symbol'])\n",
    "Non_demented_HIP=list(Non_demented_HIP['symbol'])\n",
    "Non_demented_PC=list(Non_demented_PC['symbol'])\n",
    "Non_demented_MTG=list(Non_demented_MTG['symbol'])\n",
    "Non_demented_SFG=list(Non_demented_SFG['symbol'])\n",
    "Non_demented_VCX=list(Non_demented_VCX['symbol'])"
   ]
  },
  {
   "cell_type": "markdown",
   "metadata": {},
   "source": [
    "# Filtering \"Liang (Non demented)\" in selecting rows with having the same genes with comprehensive list in a \"symbol\" column."
   ]
  },
  {
   "cell_type": "code",
   "execution_count": 23,
   "metadata": {},
   "outputs": [],
   "source": [
    "intresect_comprehensive_Non_demented_EC = comprehensive[comprehensive['symbol'].isin(Non_demented_EC)]\n",
    "intresect_comprehensive_Non_demented_HIP = comprehensive[comprehensive['symbol'].isin(Non_demented_HIP)]\n",
    "intresect_comprehensive_Non_demented_PC = comprehensive[comprehensive['symbol'].isin(Non_demented_PC)]\n",
    "intresect_comprehensive_Non_demented_MTG = comprehensive[comprehensive['symbol'].isin(Non_demented_MTG)]\n",
    "intresect_comprehensive_Non_demented_SFG= comprehensive[comprehensive['symbol'].isin(Non_demented_SFG)]\n",
    "intresect_comprehensive_Non_demented_VCX= comprehensive[comprehensive['symbol'].isin(Non_demented_VCX)]"
   ]
  },
  {
   "cell_type": "markdown",
   "metadata": {},
   "source": [
    "# Saving the filtering Liang( Non demented) based on comprehensive list"
   ]
  },
  {
   "cell_type": "code",
   "execution_count": 31,
   "metadata": {},
   "outputs": [],
   "source": [
    "writer = pd.ExcelWriter('Non-demented+comprehnsive.xlsx', engine='xlsxwriter')\n",
    "intresect_comprehensive_Non_demented_EC.to_excel(writer, 'EC')\n",
    "intresect_comprehensive_Non_demented_HIP.to_excel(writer, 'HIP')\n",
    "intresect_comprehensive_Non_demented_MTG.to_excel(writer, 'MTG')\n",
    "intresect_comprehensive_Non_demented_PC.to_excel(writer, 'PC')\n",
    "intresect_comprehensive_Non_demented_SFG.to_excel(writer, 'SFG')\n",
    "intresect_comprehensive_Non_demented_VCX.to_excel(writer, 'VCX')\n",
    "writer.save()"
   ]
  },
  {
   "cell_type": "markdown",
   "metadata": {},
   "source": [
    "# Reading the Normal aged in Liang's databse and extracting the list of genes at different sheets"
   ]
  },
  {
   "cell_type": "code",
   "execution_count": 7,
   "metadata": {},
   "outputs": [],
   "source": [
    "Normal_aged_EC=pd.read_excel('Liang-normal-aged.xlsx',sheet_name='EC',engine='openpyxl')\n",
    "Normal_aged_HIP=pd.read_excel('Liang-normal-aged.xlsx',sheet_name='HIP',engine='openpyxl')\n",
    "Normal_aged_MTG=pd.read_excel('Liang-normal-aged.xlsx',sheet_name='MTG',engine='openpyxl')\n",
    "Normal_aged_PC=pd.read_excel('Liang-normal-aged.xlsx',sheet_name='PC',engine='openpyxl')\n",
    "Normal_aged_SFG=pd.read_excel('Liang-normal-aged.xlsx',sheet_name='SFG',engine='openpyxl')\n",
    "Normal_aged_VCX=pd.read_excel('Liang-normal-aged.xlsx',sheet_name='VCX',engine='openpyxl')\n",
    "Normal_aged_EC=list(Normal_aged_EC['symbol'])\n",
    "Normal_aged_HIP=list(Normal_aged_HIP['symbol'])\n",
    "Normal_aged_PC=list(Normal_aged_PC['symbol'])\n",
    "Normal_aged_MTG=list(Normal_aged_MTG['symbol'])\n",
    "Normal_aged_SFG=list(Normal_aged_SFG['symbol'])\n",
    "Normal_aged_VCX=list(Normal_aged_VCX['symbol'])"
   ]
  },
  {
   "cell_type": "markdown",
   "metadata": {},
   "source": [
    "# Filtering \"Liang (Normal aged)\" in selecting rows with having the same genes with comprehensive list in a \"symbol\" column."
   ]
  },
  {
   "cell_type": "code",
   "execution_count": 8,
   "metadata": {},
   "outputs": [],
   "source": [
    "intresect_comprehensive_Normal_aged_EC = comprehensive[comprehensive['symbol'].isin(Normal_aged_EC)]\n",
    "intresect_comprehensive_Normal_aged_HIP = comprehensive[comprehensive['symbol'].isin(Normal_aged_HIP)]\n",
    "intresect_comprehensive_Normal_aged_PC = comprehensive[comprehensive['symbol'].isin(Normal_aged_PC)]\n",
    "intresect_comprehensive_Normal_aged_MTG = comprehensive[comprehensive['symbol'].isin(Normal_aged_MTG)]\n",
    "intresect_comprehensive_Normal_aged_SFG= comprehensive[comprehensive['symbol'].isin(Normal_aged_SFG)]\n",
    "intresect_comprehensive_Normal_aged_VCX= comprehensive[comprehensive['symbol'].isin(Normal_aged_VCX)]"
   ]
  },
  {
   "cell_type": "markdown",
   "metadata": {},
   "source": [
    "# Saving the filtering Liang( Normal aged) based on comprehensive list\n"
   ]
  },
  {
   "cell_type": "code",
   "execution_count": 44,
   "metadata": {},
   "outputs": [],
   "source": [
    "writer = pd.ExcelWriter('Normal-aged+comprehensive.xlsx', engine='xlsxwriter')\n",
    "intresect_comprehensive_Normal_aged_MTG.to_excel(writer, 'MTG')\n",
    "intresect_comprehensive_Normal_aged_HIP.to_excel(writer, 'HIP')\n",
    "intresect_comprehensive_Normal_aged_EC.to_excel(writer, 'EC')\n",
    "intresect_comprehensive_Normal_aged_PC.to_excel(writer, 'EC')\n",
    "writer.save()"
   ]
  },
  {
   "cell_type": "code",
   "execution_count": null,
   "metadata": {},
   "outputs": [],
   "source": []
  }
 ],
 "metadata": {
  "kernelspec": {
   "display_name": "Python 3",
   "language": "python",
   "name": "python3"
  },
  "language_info": {
   "codemirror_mode": {
    "name": "ipython",
    "version": 3
   },
   "file_extension": ".py",
   "mimetype": "text/x-python",
   "name": "python",
   "nbconvert_exporter": "python",
   "pygments_lexer": "ipython3",
   "version": "3.8.5"
  }
 },
 "nbformat": 4,
 "nbformat_minor": 4
}
