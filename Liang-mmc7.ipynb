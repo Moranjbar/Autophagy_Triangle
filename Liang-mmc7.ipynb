{
 "cells": [
  {
   "cell_type": "code",
   "execution_count": 13,
   "metadata": {},
   "outputs": [],
   "source": [
    "#AD affected"
   ]
  },
  {
   "cell_type": "markdown",
   "metadata": {},
   "source": [
    "#  importing pandas package\n"
   ]
  },
  {
   "cell_type": "code",
   "execution_count": 14,
   "metadata": {},
   "outputs": [],
   "source": [
    "import pandas as pd"
   ]
  },
  {
   "cell_type": "markdown",
   "metadata": {},
   "source": [
    "# Reading the AD affected in Liang's databse and extracting the list of genes at different sheet"
   ]
  },
  {
   "cell_type": "code",
   "execution_count": 15,
   "metadata": {},
   "outputs": [],
   "source": [
    "AD_affected_EC=pd.read_excel('AD affected.xlsx',sheet_name='EC',engine='openpyxl')\n",
    "AD_affected_HIP=pd.read_excel('AD affected.xlsx',sheet_name='HIP',engine='openpyxl')\n",
    "AD_affected_PC=pd.read_excel('AD affected.xlsx',sheet_name='PC',engine='openpyxl')\n",
    "AD_affected_MTG=pd.read_excel('AD affected.xlsx',sheet_name='MTG',engine='openpyxl')\n",
    "AD_affected_SFG=pd.read_excel('AD affected.xlsx',sheet_name='SFG',engine='openpyxl')\n",
    "AD_affected_VCX=pd.read_excel('AD affected.xlsx',sheet_name='VCX',engine='openpyxl')\n",
    "AD_affected_EC=list(AD_affected_EC['symbol'])\n",
    "AD_affected_HIP=list(AD_affected_HIP['symbol'])\n",
    "AD_affected_PC=list(AD_affected_PC['symbol'])\n",
    "AD_affected_MTG=list(AD_affected_MTG['symbol'])\n",
    "AD_affected_SFG=list(AD_affected_SFG['symbol'])\n",
    "AD_affected_VCX=list(AD_affected_VCX['symbol'])"
   ]
  },
  {
   "cell_type": "markdown",
   "metadata": {},
   "source": [
    "# Reading the MMC7 file with different sheet name. \n"
   ]
  },
  {
   "cell_type": "code",
   "execution_count": 16,
   "metadata": {},
   "outputs": [],
   "source": [
    "mmc7_Herpesvirus_virus2host=pd.read_excel('mmc7_Herpesvirus.xlsx',sheet_name='virus2host',engine='openpyxl')\n",
    "mmc7_Herpesvirus_host2virus=pd.read_excel('mmc7_Herpesvirus.xlsx',sheet_name='host2virus',engine='openpyxl')"
   ]
  },
  {
   "cell_type": "markdown",
   "metadata": {},
   "source": [
    "# Filtering \"MMC7\" with sheetname \"virus2host\" in selecting rows with having the same gene with Liang( AD affected) in a \"hostGene\" column."
   ]
  },
  {
   "cell_type": "code",
   "execution_count": 17,
   "metadata": {},
   "outputs": [],
   "source": [
    "intresect_virus2host_AD_affected_EC = mmc7_Herpesvirus_virus2host[mmc7_Herpesvirus_virus2host['hostGene'].isin(AD_affected_EC)]\n",
    "intresect_virus2host_AD_affected_HIP = mmc7_Herpesvirus_virus2host[mmc7_Herpesvirus_virus2host['hostGene'].isin(AD_affected_HIP)]\n",
    "intresect_virus2host_AD_affected_PC = mmc7_Herpesvirus_virus2host[mmc7_Herpesvirus_virus2host['hostGene'].isin(AD_affected_PC)]\n",
    "intresect_virus2host_AD_affected_MTG = mmc7_Herpesvirus_virus2host[mmc7_Herpesvirus_virus2host['hostGene'].isin(AD_affected_MTG)]\n",
    "intresect_virus2host_AD_affected_SFG= mmc7_Herpesvirus_virus2host[mmc7_Herpesvirus_virus2host['hostGene'].isin(AD_affected_SFG)]\n",
    "intresect_virus2host_AD_affected_VCX= mmc7_Herpesvirus_virus2host[mmc7_Herpesvirus_virus2host['hostGene'].isin(AD_affected_VCX)]"
   ]
  },
  {
   "cell_type": "markdown",
   "metadata": {},
   "source": [
    "# Filtering \"MMC7\" with sheetname \"host2virus\" in selecting rows with having the same gene with Liang( AD affected) in a \"hostGene\" column."
   ]
  },
  {
   "cell_type": "code",
   "execution_count": 18,
   "metadata": {},
   "outputs": [],
   "source": [
    "intresect_host2virus_AD_affected_EC = mmc7_Herpesvirus_host2virus[mmc7_Herpesvirus_host2virus['hostGene'].isin(AD_affected_EC)]\n",
    "intresect_host2virus_AD_affected_HIP = mmc7_Herpesvirus_host2virus[mmc7_Herpesvirus_host2virus['hostGene'].isin(AD_affected_HIP)]\n",
    "intresect_host2virus_AD_affected_PC = mmc7_Herpesvirus_host2virus[mmc7_Herpesvirus_host2virus['hostGene'].isin(AD_affected_PC)]\n",
    "intresect_host2virus_AD_affected_MTG = mmc7_Herpesvirus_host2virus[mmc7_Herpesvirus_host2virus['hostGene'].isin(AD_affected_MTG)]\n",
    "intresect_host2virus_AD_affected_SFG= mmc7_Herpesvirus_host2virus[mmc7_Herpesvirus_host2virus['hostGene'].isin(AD_affected_SFG)]\n",
    "intresect_host2virus_AD_affected_VCX= mmc7_Herpesvirus_host2virus[mmc7_Herpesvirus_host2virus['hostGene'].isin(AD_affected_VCX)]"
   ]
  },
  {
   "cell_type": "markdown",
   "metadata": {},
   "source": [
    "# Saving the filtering MMC7 based on Liang( AD affected) as a CSV file"
   ]
  },
  {
   "cell_type": "code",
   "execution_count": 19,
   "metadata": {},
   "outputs": [],
   "source": [
    "writer = pd.ExcelWriter('AD-Affected.xlsx', engine='xlsxwriter')\n",
    "intresect_virus2host_AD_affected_EC.to_excel(writer, 'virustohost-EC')\n",
    "intresect_virus2host_AD_affected_SFG.to_excel(writer, 'virustohost-SFG')\n",
    "intresect_virus2host_AD_affected_HIP.to_excel(writer, 'virustohost-HIP')\n",
    "intresect_virus2host_AD_affected_PC.to_excel(writer, 'virustohost-PC')\n",
    "intresect_virus2host_AD_affected_MTG.to_excel(writer, 'virustohost-MTG')\n",
    "intresect_virus2host_AD_affected_VCX.to_excel(writer, 'virustohost-VCX')\n",
    "intresect_host2virus_AD_affected_EC.to_excel(writer, 'host2virus-EC')\n",
    "intresect_host2virus_AD_affected_HIP.to_excel(writer, 'host2virus-HIP')\n",
    "intresect_host2virus_AD_affected_PC.to_excel(writer, 'host2virus-PC')\n",
    "intresect_host2virus_AD_affected_MTG.to_excel(writer, 'host2virus-MTG')\n",
    "intresect_host2virus_AD_affected_SFG.to_excel(writer, 'host2virus-SFG')\n",
    "intresect_host2virus_AD_affected_VCX.to_excel(writer, 'host2virus-VCX')\n",
    "writer.save()"
   ]
  },
  {
   "cell_type": "markdown",
   "metadata": {},
   "source": [
    "# Reading the Non demanted in Liang's databse and extracting the list of genes at different sheet"
   ]
  },
  {
   "cell_type": "code",
   "execution_count": 20,
   "metadata": {},
   "outputs": [],
   "source": [
    "Non_demented_EC=pd.read_excel('Liang-non-demented.xlsx',sheet_name='entorhinal cortex',engine='openpyxl')\n",
    "Non_demented_HIP=pd.read_excel('Liang-non-demented.xlsx',sheet_name='hippocampus',engine='openpyxl')\n",
    "Non_demented_PC=pd.read_excel('Liang-non-demented.xlsx',sheet_name='middle temporal gyrus',engine='openpyxl')\n",
    "Non_demented_MTG=pd.read_excel('Liang-non-demented.xlsx',sheet_name='posterior cingulate corrtex',engine='openpyxl')\n",
    "Non_demented_SFG=pd.read_excel('Liang-non-demented.xlsx',sheet_name='superior frontal gyrus',engine='openpyxl')\n",
    "Non_demented_VCX=pd.read_excel('Liang-non-demented.xlsx',sheet_name='primary visual cortex',engine='openpyxl')\n",
    "Non_demented_EC=list(Non_demented_EC['symbol'])\n",
    "Non_demented_HIP=list(Non_demented_HIP['symbol'])\n",
    "Non_demented_PC=list(Non_demented_PC['symbol'])\n",
    "Non_demented_MTG=list(Non_demented_MTG['symbol'])\n",
    "Non_demented_SFG=list(Non_demented_SFG['symbol'])\n",
    "Non_demented_VCX=list(Non_demented_VCX['symbol'])"
   ]
  },
  {
   "cell_type": "markdown",
   "metadata": {},
   "source": [
    "# Filtering \"MMC7\" with sheetname \"virus2host\" in selecting rows with having the same gene with Liang( Non demented) in a \"hostGene\" column."
   ]
  },
  {
   "cell_type": "code",
   "execution_count": 21,
   "metadata": {},
   "outputs": [],
   "source": [
    "intresect_virus2host_Non_demented_EC = mmc7_Herpesvirus_virus2host[mmc7_Herpesvirus_virus2host['hostGene'].isin(Non_demented_EC)]\n",
    "intresect_virus2host_Non_demented_HIP = mmc7_Herpesvirus_virus2host[mmc7_Herpesvirus_virus2host['hostGene'].isin(Non_demented_HIP)]\n",
    "intresect_virus2host_Non_demented_PC = mmc7_Herpesvirus_virus2host[mmc7_Herpesvirus_virus2host['hostGene'].isin(Non_demented_PC)]\n",
    "intresect_virus2host_Non_demented_MTG = mmc7_Herpesvirus_virus2host[mmc7_Herpesvirus_virus2host['hostGene'].isin(Non_demented_MTG)]\n",
    "intresect_virus2host_Non_demented_SFG= mmc7_Herpesvirus_virus2host[mmc7_Herpesvirus_virus2host['hostGene'].isin(Non_demented_SFG)]\n",
    "intresect_virus2host_Non_demented_VCX= mmc7_Herpesvirus_virus2host[mmc7_Herpesvirus_virus2host['hostGene'].isin(Non_demented_VCX)]"
   ]
  },
  {
   "cell_type": "markdown",
   "metadata": {},
   "source": [
    "# Filtering \"MMC7\" with sheetname \"host2virus\" in selecting rows with having the same gene with Liang(Non demented) in a \"hostGene\" column."
   ]
  },
  {
   "cell_type": "code",
   "execution_count": 22,
   "metadata": {},
   "outputs": [],
   "source": [
    "intresect_host2virus_Non_demented_EC = mmc7_Herpesvirus_host2virus[mmc7_Herpesvirus_host2virus['hostGene'].isin(Non_demented_EC)]\n",
    "intresect_host2virus_Non_demented_HIP = mmc7_Herpesvirus_host2virus[mmc7_Herpesvirus_host2virus['hostGene'].isin(Non_demented_HIP)]\n",
    "intresect_host2virus_Non_demented_PC = mmc7_Herpesvirus_host2virus[mmc7_Herpesvirus_host2virus['hostGene'].isin(Non_demented_PC)]\n",
    "intresect_host2virus_Non_demented_MTG = mmc7_Herpesvirus_host2virus[mmc7_Herpesvirus_host2virus['hostGene'].isin(Non_demented_MTG)]\n",
    "intresect_host2virus_Non_demented_SFG= mmc7_Herpesvirus_host2virus[mmc7_Herpesvirus_host2virus['hostGene'].isin(Non_demented_SFG)]\n",
    "intresect_host2virus_Non_demented_VCX= mmc7_Herpesvirus_host2virus[mmc7_Herpesvirus_host2virus['hostGene'].isin(Non_demented_VCX)]"
   ]
  },
  {
   "cell_type": "markdown",
   "metadata": {},
   "source": [
    "# Saving the filtering MMC7 based on Liang( Non demented) as a CSV file\n"
   ]
  },
  {
   "cell_type": "code",
   "execution_count": 62,
   "metadata": {},
   "outputs": [],
   "source": [
    "writer = pd.ExcelWriter('Non-demented.xlsx', engine='xlsxwriter')\n",
    "intresect_virus2host_Non_demented_EC.to_excel(writer, 'virustohost-EC')\n",
    "intresect_virus2host_Non_demented_MTG.to_excel(writer, 'virustohost-MTG')\n",
    "intresect_virus2host_Non_demented_SFG.to_excel(writer, 'virustohost-SFG')\n",
    "intresect_host2virus_Non_demented_SFG.to_excel(writer, 'hosttovirus-SFG')\n",
    "intresect_virus2host_Non_demented_HIP.to_excel(writer, 'virustohost-HIP')\n",
    "intresect_virus2host_Non_demented_PC.to_excel(writer, 'virustohost-PC')\n",
    "intresect_virus2host_Non_demented_VCX.to_excel(writer, 'virustohost-VCX')\n",
    "intresect_host2virus_Non_demented_EC.to_excel(writer, 'hosttovirus-EC')\n",
    "intresect_host2virus_Non_demented_HIP.to_excel(writer, 'hosttovirus-HIP')\n",
    "intresect_host2virus_Non_demented_PC.to_excel(writer, 'hosttovirus-PC')\n",
    "intresect_host2virus_Non_demented_MTG.to_excel(writer, 'hosttovirus-MTG')\n",
    "intresect_host2virus_Non_demented_VCX.to_excel(writer, 'hosttovirus-VCX')\n",
    "\n",
    "writer.save()"
   ]
  },
  {
   "cell_type": "markdown",
   "metadata": {},
   "source": [
    "# Reading the Normal aged in Liang's databse and extracting the list of genes at different sheet"
   ]
  },
  {
   "cell_type": "code",
   "execution_count": 23,
   "metadata": {},
   "outputs": [],
   "source": [
    "Normal_aged_EC=pd.read_excel('Liang-normal-aged.xlsx',sheet_name='EC',engine='openpyxl')\n",
    "Normal_aged_HIP=pd.read_excel('Liang-normal-aged.xlsx',sheet_name='HIP',engine='openpyxl')\n",
    "Normal_aged_MTG=pd.read_excel('Liang-normal-aged.xlsx',sheet_name='MTG',engine='openpyxl')\n",
    "Normal_aged_PC=pd.read_excel('Liang-normal-aged.xlsx',sheet_name='PC',engine='openpyxl')\n",
    "Normal_aged_SFG=pd.read_excel('Liang-normal-aged.xlsx',sheet_name='SFG',engine='openpyxl')\n",
    "Normal_aged_VCX=pd.read_excel('Liang-normal-aged.xlsx',sheet_name='VCX',engine='openpyxl')\n",
    "Normal_aged_EC=list(Normal_aged_EC['symbol'])\n",
    "Normal_aged_HIP=list(Normal_aged_HIP['symbol'])\n",
    "Normal_aged_PC=list(Normal_aged_PC['symbol'])\n",
    "Normal_aged_MTG=list(Normal_aged_MTG['symbol'])\n",
    "Normal_aged_SFG=list(Normal_aged_SFG['symbol'])\n",
    "Normal_aged_VCX=list(Normal_aged_VCX['symbol'])"
   ]
  },
  {
   "cell_type": "markdown",
   "metadata": {},
   "source": [
    "# Filtering \"MMC7\" with sheetname \"virus2host\" in selecting rows with having the same gene with Liang(Normal aged) in a \"hostGene\" column."
   ]
  },
  {
   "cell_type": "code",
   "execution_count": 67,
   "metadata": {},
   "outputs": [],
   "source": [
    "intresect_virus2host_Normal_aged_EC = mmc7_Herpesvirus_virus2host[mmc7_Herpesvirus_virus2host['hostGene'].isin(Normal_aged_EC)]\n",
    "intresect_virus2host_Normal_aged_HIP = mmc7_Herpesvirus_virus2host[mmc7_Herpesvirus_virus2host['hostGene'].isin(Normal_aged_HIP)]\n",
    "intresect_virus2host_Normal_aged_PC = mmc7_Herpesvirus_virus2host[mmc7_Herpesvirus_virus2host['hostGene'].isin(Normal_aged_PC)]\n",
    "intresect_virus2host_Normal_aged_MTG = mmc7_Herpesvirus_virus2host[mmc7_Herpesvirus_virus2host['hostGene'].isin(Normal_aged_MTG)]\n",
    "intresect_virus2host_Normal_aged_SFG= mmc7_Herpesvirus_virus2host[mmc7_Herpesvirus_virus2host['hostGene'].isin(Normal_aged_SFG)]\n",
    "intresect_virus2host_Normal_aged_VCX= mmc7_Herpesvirus_virus2host[mmc7_Herpesvirus_virus2host['hostGene'].isin(Normal_aged_VCX)]"
   ]
  },
  {
   "cell_type": "markdown",
   "metadata": {},
   "source": [
    "# Filtering \"MMC7\" with sheetname \"host2virus\" in selecting rows with having the same gene with Liang(Normal aged) in a \"hostGene\" column."
   ]
  },
  {
   "cell_type": "code",
   "execution_count": 84,
   "metadata": {},
   "outputs": [],
   "source": [
    "intresect_host2virus_Normal_aged_EC = mmc7_Herpesvirus_host2virus[mmc7_Herpesvirus_host2virus['hostGene'].isin(Normal_aged_EC)]\n",
    "intresect_host2virus_Normal_aged_HIP = mmc7_Herpesvirus_host2virus[mmc7_Herpesvirus_host2virus['hostGene'].isin(Normal_aged_HIP)]\n",
    "intresect_host2virus_Normal_aged_PC = mmc7_Herpesvirus_host2virus[mmc7_Herpesvirus_host2virus['hostGene'].isin(Normal_aged_PC)]\n",
    "intresect_host2virus_Normal_aged_MTG = mmc7_Herpesvirus_host2virus[mmc7_Herpesvirus_host2virus['hostGene'].isin(Normal_aged_MTG)]\n",
    "intresect_host2virus_Normal_aged_SFG= mmc7_Herpesvirus_host2virus[mmc7_Herpesvirus_host2virus['hostGene'].isin(Normal_aged_SFG)]\n",
    "intresect_host2virus_Normal_aged_VCX= mmc7_Herpesvirus_host2virus[mmc7_Herpesvirus_host2virus['hostGene'].isin(Normal_aged_VCX)]"
   ]
  },
  {
   "cell_type": "markdown",
   "metadata": {},
   "source": [
    "# Saving the filtering MMC7 based on Liang( Normal aged) as a CSV file\n"
   ]
  },
  {
   "cell_type": "code",
   "execution_count": 91,
   "metadata": {},
   "outputs": [],
   "source": [
    "writer = pd.ExcelWriter('Normal-aged.xlsx', engine='xlsxwriter')\n",
    "intresect_virus2host_Normal_aged_MTG.to_excel(writer, 'virustohost-MTG')\n",
    "intresect_host2virus_Normal_aged_MTG.to_excel(writer, 'hosttovirus-MTG')\n",
    "intresect_virus2host_Normal_aged_EC.to_excel(writer, 'virustohost-EC')\n",
    "intresect_virus2host_Normal_aged_HIP.to_excel(writer, 'virustohost-HIP')\n",
    "intresect_virus2host_Normal_aged_PC.to_excel(writer, 'virustohost-PC')\n",
    "intresect_virus2host_Normal_aged_SFG.to_excel(writer, 'virustohost-SFG')\n",
    "intresect_virus2host_Normal_aged_VCX.to_excel(writer, 'virustohost-VCX')\n",
    "intresect_host2virus_Normal_aged_EC.to_excel(writer, 'hosttovirus-EC')\n",
    "intresect_host2virus_Normal_aged_HIP.to_excel(writer, 'hosttovirus-HIP')\n",
    "intresect_host2virus_Normal_aged_PC.to_excel(writer, 'hosttovirus-PC')\n",
    "intresect_host2virus_Normal_aged_SFG.to_excel(writer, 'hosttovirus-SFG')\n",
    "intresect_host2virus_Normal_aged_VCX.to_excel(writer, 'hosttovirus-VCX')\n",
    "writer.save()"
   ]
  },
  {
   "cell_type": "code",
   "execution_count": null,
   "metadata": {},
   "outputs": [],
   "source": []
  }
 ],
 "metadata": {
  "kernelspec": {
   "display_name": "Python 3",
   "language": "python",
   "name": "python3"
  },
  "language_info": {
   "codemirror_mode": {
    "name": "ipython",
    "version": 3
   },
   "file_extension": ".py",
   "mimetype": "text/x-python",
   "name": "python",
   "nbconvert_exporter": "python",
   "pygments_lexer": "ipython3",
   "version": "3.8.5"
  }
 },
 "nbformat": 4,
 "nbformat_minor": 4
}
