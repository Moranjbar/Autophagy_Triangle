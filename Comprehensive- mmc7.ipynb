{
 "cells": [
  {
   "cell_type": "markdown",
   "metadata": {},
   "source": [
    "#  importing pandas , numpy and matplotlib.pyplot packages"
   ]
  },
  {
   "cell_type": "code",
   "execution_count": 21,
   "metadata": {},
   "outputs": [],
   "source": [
    "import pandas as pd\n",
    "import numpy as np\n",
    "import matplotlib.pyplot as plt"
   ]
  },
  {
   "cell_type": "markdown",
   "metadata": {},
   "source": [
    "# Reading the PDB databse"
   ]
  },
  {
   "cell_type": "code",
   "execution_count": 22,
   "metadata": {},
   "outputs": [],
   "source": [
    "ATG_PDB = pd.read_csv('PDB.txt')\n",
    "ATG_PDB=ATG_PDB['symbol'].values.tolist()\n",
    "# len(ATG_PDB)"
   ]
  },
  {
   "cell_type": "markdown",
   "metadata": {},
   "source": [
    "# Reading the Morishita & Mizushima's database\n",
    "\n"
   ]
  },
  {
   "cell_type": "code",
   "execution_count": 23,
   "metadata": {},
   "outputs": [],
   "source": [
    "ATG_Mizushima = pd.read_csv('Murshita.txt')\n",
    "ATG_Mizushima=ATG_Mizushima['symbol'].values.tolist()\n",
    "# len(ATG_Mizushima)"
   ]
  },
  {
   "cell_type": "markdown",
   "metadata": {},
   "source": [
    "# Reading the Tanpaku database\n"
   ]
  },
  {
   "cell_type": "code",
   "execution_count": 24,
   "metadata": {},
   "outputs": [],
   "source": [
    "ATG_tanpaku = pd.read_csv('Japaness(tanpaku).txt')\n",
    "ATG_tanpaku=ATG_tanpaku['symbol'].values.tolist()\n",
    "# len(ATG_tanpaku)"
   ]
  },
  {
   "cell_type": "markdown",
   "metadata": {},
   "source": [
    "# Reading the other papars"
   ]
  },
  {
   "cell_type": "code",
   "execution_count": 25,
   "metadata": {},
   "outputs": [],
   "source": [
    "ATG_Isaac = pd.read_excel('Pathogenic Single Nucleotide Polymorphisms on Autophagy-Related Genes.xlsx')\n",
    "ATG_Isaac=ATG_Isaac['Gene'].values.tolist()\n",
    "ATG_Isaac =[x.strip(' ') for x in ATG_Isaac]\n",
    "# len(ATG_Isaac)"
   ]
  },
  {
   "cell_type": "markdown",
   "metadata": {},
   "source": [
    "# Reading Tudor I. Oprea's dataset"
   ]
  },
  {
   "cell_type": "code",
   "execution_count": 26,
   "metadata": {},
   "outputs": [],
   "source": [
    "ATG_Tudor=pd.read_excel('Tudor Opera.xlsx',sheet_name='Input_Output',engine='openpyxl')\n",
    "ATG_Tudor=ATG_Tudor['symbol'].values.tolist()\n",
    "# len(ATG_Tudor)"
   ]
  },
  {
   "cell_type": "markdown",
   "metadata": {},
   "source": [
    "# Reading Tudor I. Oprea's + dark genes dataset\n"
   ]
  },
  {
   "cell_type": "code",
   "execution_count": 27,
   "metadata": {},
   "outputs": [],
   "source": [
    "dark_genes = pd.read_csv('dark_genes.txt')\n",
    "dark_genes=dark_genes['symbol'].values.tolist()\n",
    "# len(dark_genes)"
   ]
  },
  {
   "cell_type": "markdown",
   "metadata": {},
   "source": [
    "# Making a set of the ATG genes (comprehensive list) and removing a NaN value from the list. The total number of comprehensive list is 9812"
   ]
  },
  {
   "cell_type": "code",
   "execution_count": 28,
   "metadata": {},
   "outputs": [
    {
     "data": {
      "text/plain": [
       "9812"
      ]
     },
     "execution_count": 28,
     "metadata": {},
     "output_type": "execute_result"
    }
   ],
   "source": [
    "comprehensive= ATG_PDB + ATG_Mizushima + ATG_tanpaku + ATG_Isaac + ATG_Tudor + dark_genes\n",
    "comprehensive= set(comprehensive)\n",
    "comprehensive= [str(x) for x in comprehensive]\n",
    "comprehensive = [x for x in comprehensive if x !='nan']\n",
    "len(comprehensive)"
   ]
  },
  {
   "cell_type": "markdown",
   "metadata": {},
   "source": [
    "# Converting the list of comprehensive to dataframe\n",
    "# ( https://pandas.pydata.org/docs/reference/api/pandas.DataFrame.html)"
   ]
  },
  {
   "cell_type": "code",
   "execution_count": 29,
   "metadata": {},
   "outputs": [
    {
     "data": {
      "text/html": [
       "<div>\n",
       "<style scoped>\n",
       "    .dataframe tbody tr th:only-of-type {\n",
       "        vertical-align: middle;\n",
       "    }\n",
       "\n",
       "    .dataframe tbody tr th {\n",
       "        vertical-align: top;\n",
       "    }\n",
       "\n",
       "    .dataframe thead th {\n",
       "        text-align: right;\n",
       "    }\n",
       "</style>\n",
       "<table border=\"1\" class=\"dataframe\">\n",
       "  <thead>\n",
       "    <tr style=\"text-align: right;\">\n",
       "      <th></th>\n",
       "      <th>symbol</th>\n",
       "    </tr>\n",
       "  </thead>\n",
       "  <tbody>\n",
       "    <tr>\n",
       "      <th>0</th>\n",
       "      <td>PGC1A</td>\n",
       "    </tr>\n",
       "    <tr>\n",
       "      <th>1</th>\n",
       "      <td>cathepsin E</td>\n",
       "    </tr>\n",
       "    <tr>\n",
       "      <th>2</th>\n",
       "      <td>DRAM2</td>\n",
       "    </tr>\n",
       "    <tr>\n",
       "      <th>3</th>\n",
       "      <td>G0A67_11560</td>\n",
       "    </tr>\n",
       "    <tr>\n",
       "      <th>4</th>\n",
       "      <td>SAPK1</td>\n",
       "    </tr>\n",
       "    <tr>\n",
       "      <th>...</th>\n",
       "      <td>...</td>\n",
       "    </tr>\n",
       "    <tr>\n",
       "      <th>9807</th>\n",
       "      <td>E5KLJ5</td>\n",
       "    </tr>\n",
       "    <tr>\n",
       "      <th>9808</th>\n",
       "      <td>O14617</td>\n",
       "    </tr>\n",
       "    <tr>\n",
       "      <th>9809</th>\n",
       "      <td>P17655</td>\n",
       "    </tr>\n",
       "    <tr>\n",
       "      <th>9810</th>\n",
       "      <td>EIF2B2</td>\n",
       "    </tr>\n",
       "    <tr>\n",
       "      <th>9811</th>\n",
       "      <td>1M17</td>\n",
       "    </tr>\n",
       "  </tbody>\n",
       "</table>\n",
       "<p>9812 rows × 1 columns</p>\n",
       "</div>"
      ],
      "text/plain": [
       "           symbol\n",
       "0           PGC1A\n",
       "1     cathepsin E\n",
       "2           DRAM2\n",
       "3     G0A67_11560\n",
       "4           SAPK1\n",
       "...           ...\n",
       "9807       E5KLJ5\n",
       "9808       O14617\n",
       "9809       P17655\n",
       "9810       EIF2B2\n",
       "9811         1M17\n",
       "\n",
       "[9812 rows x 1 columns]"
      ]
     },
     "execution_count": 29,
     "metadata": {},
     "output_type": "execute_result"
    }
   ],
   "source": [
    "df = pd.DataFrame (comprehensive,columns=['symbol'])\n",
    "df"
   ]
  },
  {
   "cell_type": "markdown",
   "metadata": {},
   "source": [
    "# Saving the comprehensive dataframe as a CSV file"
   ]
  },
  {
   "cell_type": "code",
   "execution_count": 14,
   "metadata": {},
   "outputs": [],
   "source": [
    "df.to_csv('comprehensive.csv')"
   ]
  },
  {
   "cell_type": "markdown",
   "metadata": {},
   "source": [
    "# Reading the MMC7 file with different sheet name. "
   ]
  },
  {
   "cell_type": "code",
   "execution_count": 31,
   "metadata": {},
   "outputs": [],
   "source": [
    "mmc7_virus2host=pd.read_excel('1-s2.0-S0896627318304215-mmc7.xlsx',sheet_name='virus2host',engine='openpyxl')\n",
    "mmc7_host2virus=pd.read_excel('1-s2.0-S0896627318304215-mmc7.xlsx',sheet_name='host2virus',engine='openpyxl')"
   ]
  },
  {
   "cell_type": "markdown",
   "metadata": {},
   "source": [
    "# Filtering \"MMC7\" with sheetname \"virus2host\" in selecting rows with having the comprehensive value in a \"hostGene\" column."
   ]
  },
  {
   "cell_type": "code",
   "execution_count": 39,
   "metadata": {},
   "outputs": [
    {
     "data": {
      "text/html": [
       "<div>\n",
       "<style scoped>\n",
       "    .dataframe tbody tr th:only-of-type {\n",
       "        vertical-align: middle;\n",
       "    }\n",
       "\n",
       "    .dataframe tbody tr th {\n",
       "        vertical-align: top;\n",
       "    }\n",
       "\n",
       "    .dataframe thead th {\n",
       "        text-align: right;\n",
       "    }\n",
       "</style>\n",
       "<table border=\"1\" class=\"dataframe\">\n",
       "  <thead>\n",
       "    <tr style=\"text-align: right;\">\n",
       "      <th></th>\n",
       "      <th>tissue</th>\n",
       "      <th>marker</th>\n",
       "      <th>chr</th>\n",
       "      <th>pos</th>\n",
       "      <th>viral_feature</th>\n",
       "      <th>virus_name</th>\n",
       "      <th>hostGene</th>\n",
       "      <th>p_cit_permuted</th>\n",
       "      <th>p_TassocL_permuted</th>\n",
       "      <th>p_TassocGgvnL_permuted</th>\n",
       "      <th>p_GassocLgvnT_permuted</th>\n",
       "      <th>p_LindTgvnG_permuted</th>\n",
       "      <th>p_cit_reactive_permuted</th>\n",
       "      <th>p_TassocL_reactive_permuted</th>\n",
       "      <th>p_TassocGgvnL_reactive_permuted</th>\n",
       "      <th>p_GassocLgvnT_reactive_permuted</th>\n",
       "      <th>p_LindTgvnG_reactive_permuted</th>\n",
       "      <th>transgene_cor_with_virus</th>\n",
       "      <th>transgene_cor_with_virus_pvalue</th>\n",
       "    </tr>\n",
       "  </thead>\n",
       "  <tbody>\n",
       "    <tr>\n",
       "      <th>74</th>\n",
       "      <td>BM_10</td>\n",
       "      <td>rs7987664</td>\n",
       "      <td>chr13</td>\n",
       "      <td>77566158</td>\n",
       "      <td>NC_000898.1_repeat_region_153322_162114__ID.id63</td>\n",
       "      <td>Human herpesvirus 6B, complete genome</td>\n",
       "      <td>KAT8</td>\n",
       "      <td>0.005994</td>\n",
       "      <td>0.173826</td>\n",
       "      <td>0.026973</td>\n",
       "      <td>0.987013</td>\n",
       "      <td>0.007992</td>\n",
       "      <td>0.190809</td>\n",
       "      <td>0.000999</td>\n",
       "      <td>0.026973</td>\n",
       "      <td>0.987013</td>\n",
       "      <td>0.013986</td>\n",
       "      <td>-0.237486</td>\n",
       "      <td>0.001603</td>\n",
       "    </tr>\n",
       "    <tr>\n",
       "      <th>76</th>\n",
       "      <td>BM_10</td>\n",
       "      <td>rs7987664</td>\n",
       "      <td>chr13</td>\n",
       "      <td>77566158</td>\n",
       "      <td>NC_000898.1_repeat_region_153322_162114__ID.id63</td>\n",
       "      <td>Human herpesvirus 6B, complete genome</td>\n",
       "      <td>DAPK3</td>\n",
       "      <td>0.027972</td>\n",
       "      <td>0.344655</td>\n",
       "      <td>0.046953</td>\n",
       "      <td>0.973027</td>\n",
       "      <td>0.014985</td>\n",
       "      <td>0.073926</td>\n",
       "      <td>0.000999</td>\n",
       "      <td>0.046953</td>\n",
       "      <td>0.973027</td>\n",
       "      <td>0.017982</td>\n",
       "      <td>-0.236257</td>\n",
       "      <td>0.001698</td>\n",
       "    </tr>\n",
       "    <tr>\n",
       "      <th>78</th>\n",
       "      <td>BM_10</td>\n",
       "      <td>rs7987664</td>\n",
       "      <td>chr13</td>\n",
       "      <td>77566158</td>\n",
       "      <td>NC_000898.1_repeat_region_153322_162114__ID.id63</td>\n",
       "      <td>Human herpesvirus 6B, complete genome</td>\n",
       "      <td>SIM2</td>\n",
       "      <td>0.016983</td>\n",
       "      <td>0.610390</td>\n",
       "      <td>0.023976</td>\n",
       "      <td>0.984016</td>\n",
       "      <td>0.017982</td>\n",
       "      <td>0.280719</td>\n",
       "      <td>0.000999</td>\n",
       "      <td>0.023976</td>\n",
       "      <td>0.984016</td>\n",
       "      <td>0.017982</td>\n",
       "      <td>0.209307</td>\n",
       "      <td>0.005574</td>\n",
       "    </tr>\n",
       "    <tr>\n",
       "      <th>85</th>\n",
       "      <td>BM_10</td>\n",
       "      <td>rs7987664</td>\n",
       "      <td>chr13</td>\n",
       "      <td>77566158</td>\n",
       "      <td>NC_000898.1_repeat_region_153322_162114__ID.id63</td>\n",
       "      <td>Human herpesvirus 6B, complete genome</td>\n",
       "      <td>ESRRA</td>\n",
       "      <td>0.018981</td>\n",
       "      <td>0.434565</td>\n",
       "      <td>0.083916</td>\n",
       "      <td>0.950050</td>\n",
       "      <td>0.049950</td>\n",
       "      <td>0.224775</td>\n",
       "      <td>0.000999</td>\n",
       "      <td>0.083916</td>\n",
       "      <td>0.950050</td>\n",
       "      <td>0.013986</td>\n",
       "      <td>-0.186659</td>\n",
       "      <td>0.013657</td>\n",
       "    </tr>\n",
       "    <tr>\n",
       "      <th>95</th>\n",
       "      <td>BM_10</td>\n",
       "      <td>rs7987664</td>\n",
       "      <td>chr13</td>\n",
       "      <td>77566158</td>\n",
       "      <td>NC_000898.1_repeat_region_153322_162114__ID.id63</td>\n",
       "      <td>Human herpesvirus 6B, complete genome</td>\n",
       "      <td>CDK1</td>\n",
       "      <td>0.027972</td>\n",
       "      <td>0.192807</td>\n",
       "      <td>0.231768</td>\n",
       "      <td>0.919081</td>\n",
       "      <td>0.066933</td>\n",
       "      <td>0.368631</td>\n",
       "      <td>0.000999</td>\n",
       "      <td>0.231768</td>\n",
       "      <td>0.919081</td>\n",
       "      <td>0.090909</td>\n",
       "      <td>-0.117642</td>\n",
       "      <td>0.122107</td>\n",
       "    </tr>\n",
       "    <tr>\n",
       "      <th>...</th>\n",
       "      <td>...</td>\n",
       "      <td>...</td>\n",
       "      <td>...</td>\n",
       "      <td>...</td>\n",
       "      <td>...</td>\n",
       "      <td>...</td>\n",
       "      <td>...</td>\n",
       "      <td>...</td>\n",
       "      <td>...</td>\n",
       "      <td>...</td>\n",
       "      <td>...</td>\n",
       "      <td>...</td>\n",
       "      <td>...</td>\n",
       "      <td>...</td>\n",
       "      <td>...</td>\n",
       "      <td>...</td>\n",
       "      <td>...</td>\n",
       "      <td>...</td>\n",
       "      <td>...</td>\n",
       "    </tr>\n",
       "    <tr>\n",
       "      <th>91368</th>\n",
       "      <td>BM_44</td>\n",
       "      <td>rs1540000</td>\n",
       "      <td>chr21</td>\n",
       "      <td>19666901</td>\n",
       "      <td>NC_020810.1_region_1_11976__ID.id0</td>\n",
       "      <td>Duvenhage virus isolate 86132SA, complete genome</td>\n",
       "      <td>FBXL17</td>\n",
       "      <td>0.018981</td>\n",
       "      <td>0.243756</td>\n",
       "      <td>0.027972</td>\n",
       "      <td>0.973027</td>\n",
       "      <td>0.035964</td>\n",
       "      <td>0.474525</td>\n",
       "      <td>0.000999</td>\n",
       "      <td>0.027972</td>\n",
       "      <td>0.973027</td>\n",
       "      <td>0.019980</td>\n",
       "      <td>0.225220</td>\n",
       "      <td>0.006094</td>\n",
       "    </tr>\n",
       "    <tr>\n",
       "      <th>91372</th>\n",
       "      <td>BM_44</td>\n",
       "      <td>rs1540000</td>\n",
       "      <td>chr21</td>\n",
       "      <td>19666901</td>\n",
       "      <td>NC_020810.1_region_1_11976__ID.id0</td>\n",
       "      <td>Duvenhage virus isolate 86132SA, complete genome</td>\n",
       "      <td>HSPA1B</td>\n",
       "      <td>0.019980</td>\n",
       "      <td>0.395604</td>\n",
       "      <td>0.047952</td>\n",
       "      <td>0.981019</td>\n",
       "      <td>0.017982</td>\n",
       "      <td>0.138861</td>\n",
       "      <td>0.000999</td>\n",
       "      <td>0.047952</td>\n",
       "      <td>0.981019</td>\n",
       "      <td>0.040959</td>\n",
       "      <td>-0.197256</td>\n",
       "      <td>0.016631</td>\n",
       "    </tr>\n",
       "    <tr>\n",
       "      <th>91397</th>\n",
       "      <td>BM_44</td>\n",
       "      <td>rs1540000</td>\n",
       "      <td>chr21</td>\n",
       "      <td>19666901</td>\n",
       "      <td>NC_020810.1_three_prime_UTR_11907_11976__ID.id2</td>\n",
       "      <td>Duvenhage virus isolate 86132SA, complete genome</td>\n",
       "      <td>KAT8</td>\n",
       "      <td>0.027972</td>\n",
       "      <td>0.854146</td>\n",
       "      <td>0.036963</td>\n",
       "      <td>0.968032</td>\n",
       "      <td>0.013986</td>\n",
       "      <td>0.290709</td>\n",
       "      <td>0.000999</td>\n",
       "      <td>0.036963</td>\n",
       "      <td>0.968032</td>\n",
       "      <td>0.019980</td>\n",
       "      <td>0.290420</td>\n",
       "      <td>0.000359</td>\n",
       "    </tr>\n",
       "    <tr>\n",
       "      <th>91437</th>\n",
       "      <td>BM_44</td>\n",
       "      <td>rs1540000</td>\n",
       "      <td>chr21</td>\n",
       "      <td>19666901</td>\n",
       "      <td>NC_020810.1_three_prime_UTR_11907_11976__ID.id2</td>\n",
       "      <td>Duvenhage virus isolate 86132SA, complete genome</td>\n",
       "      <td>FBXL17</td>\n",
       "      <td>0.018981</td>\n",
       "      <td>0.243756</td>\n",
       "      <td>0.027972</td>\n",
       "      <td>0.973027</td>\n",
       "      <td>0.035964</td>\n",
       "      <td>0.474525</td>\n",
       "      <td>0.000999</td>\n",
       "      <td>0.027972</td>\n",
       "      <td>0.973027</td>\n",
       "      <td>0.004995</td>\n",
       "      <td>0.225220</td>\n",
       "      <td>0.006094</td>\n",
       "    </tr>\n",
       "    <tr>\n",
       "      <th>91441</th>\n",
       "      <td>BM_44</td>\n",
       "      <td>rs1540000</td>\n",
       "      <td>chr21</td>\n",
       "      <td>19666901</td>\n",
       "      <td>NC_020810.1_three_prime_UTR_11907_11976__ID.id2</td>\n",
       "      <td>Duvenhage virus isolate 86132SA, complete genome</td>\n",
       "      <td>HSPA1B</td>\n",
       "      <td>0.019980</td>\n",
       "      <td>0.395604</td>\n",
       "      <td>0.047952</td>\n",
       "      <td>0.981019</td>\n",
       "      <td>0.018981</td>\n",
       "      <td>0.138861</td>\n",
       "      <td>0.000999</td>\n",
       "      <td>0.047952</td>\n",
       "      <td>0.981019</td>\n",
       "      <td>0.035964</td>\n",
       "      <td>-0.197256</td>\n",
       "      <td>0.016631</td>\n",
       "    </tr>\n",
       "  </tbody>\n",
       "</table>\n",
       "<p>16624 rows × 19 columns</p>\n",
       "</div>"
      ],
      "text/plain": [
       "      tissue     marker    chr       pos  \\\n",
       "74     BM_10  rs7987664  chr13  77566158   \n",
       "76     BM_10  rs7987664  chr13  77566158   \n",
       "78     BM_10  rs7987664  chr13  77566158   \n",
       "85     BM_10  rs7987664  chr13  77566158   \n",
       "95     BM_10  rs7987664  chr13  77566158   \n",
       "...      ...        ...    ...       ...   \n",
       "91368  BM_44  rs1540000  chr21  19666901   \n",
       "91372  BM_44  rs1540000  chr21  19666901   \n",
       "91397  BM_44  rs1540000  chr21  19666901   \n",
       "91437  BM_44  rs1540000  chr21  19666901   \n",
       "91441  BM_44  rs1540000  chr21  19666901   \n",
       "\n",
       "                                          viral_feature  \\\n",
       "74     NC_000898.1_repeat_region_153322_162114__ID.id63   \n",
       "76     NC_000898.1_repeat_region_153322_162114__ID.id63   \n",
       "78     NC_000898.1_repeat_region_153322_162114__ID.id63   \n",
       "85     NC_000898.1_repeat_region_153322_162114__ID.id63   \n",
       "95     NC_000898.1_repeat_region_153322_162114__ID.id63   \n",
       "...                                                 ...   \n",
       "91368                NC_020810.1_region_1_11976__ID.id0   \n",
       "91372                NC_020810.1_region_1_11976__ID.id0   \n",
       "91397   NC_020810.1_three_prime_UTR_11907_11976__ID.id2   \n",
       "91437   NC_020810.1_three_prime_UTR_11907_11976__ID.id2   \n",
       "91441   NC_020810.1_three_prime_UTR_11907_11976__ID.id2   \n",
       "\n",
       "                                             virus_name hostGene  \\\n",
       "74                Human herpesvirus 6B, complete genome     KAT8   \n",
       "76                Human herpesvirus 6B, complete genome    DAPK3   \n",
       "78                Human herpesvirus 6B, complete genome     SIM2   \n",
       "85                Human herpesvirus 6B, complete genome    ESRRA   \n",
       "95                Human herpesvirus 6B, complete genome     CDK1   \n",
       "...                                                 ...      ...   \n",
       "91368  Duvenhage virus isolate 86132SA, complete genome   FBXL17   \n",
       "91372  Duvenhage virus isolate 86132SA, complete genome   HSPA1B   \n",
       "91397  Duvenhage virus isolate 86132SA, complete genome     KAT8   \n",
       "91437  Duvenhage virus isolate 86132SA, complete genome   FBXL17   \n",
       "91441  Duvenhage virus isolate 86132SA, complete genome   HSPA1B   \n",
       "\n",
       "       p_cit_permuted  p_TassocL_permuted  p_TassocGgvnL_permuted  \\\n",
       "74           0.005994            0.173826                0.026973   \n",
       "76           0.027972            0.344655                0.046953   \n",
       "78           0.016983            0.610390                0.023976   \n",
       "85           0.018981            0.434565                0.083916   \n",
       "95           0.027972            0.192807                0.231768   \n",
       "...               ...                 ...                     ...   \n",
       "91368        0.018981            0.243756                0.027972   \n",
       "91372        0.019980            0.395604                0.047952   \n",
       "91397        0.027972            0.854146                0.036963   \n",
       "91437        0.018981            0.243756                0.027972   \n",
       "91441        0.019980            0.395604                0.047952   \n",
       "\n",
       "       p_GassocLgvnT_permuted  p_LindTgvnG_permuted  p_cit_reactive_permuted  \\\n",
       "74                   0.987013              0.007992                 0.190809   \n",
       "76                   0.973027              0.014985                 0.073926   \n",
       "78                   0.984016              0.017982                 0.280719   \n",
       "85                   0.950050              0.049950                 0.224775   \n",
       "95                   0.919081              0.066933                 0.368631   \n",
       "...                       ...                   ...                      ...   \n",
       "91368                0.973027              0.035964                 0.474525   \n",
       "91372                0.981019              0.017982                 0.138861   \n",
       "91397                0.968032              0.013986                 0.290709   \n",
       "91437                0.973027              0.035964                 0.474525   \n",
       "91441                0.981019              0.018981                 0.138861   \n",
       "\n",
       "       p_TassocL_reactive_permuted  p_TassocGgvnL_reactive_permuted  \\\n",
       "74                        0.000999                         0.026973   \n",
       "76                        0.000999                         0.046953   \n",
       "78                        0.000999                         0.023976   \n",
       "85                        0.000999                         0.083916   \n",
       "95                        0.000999                         0.231768   \n",
       "...                            ...                              ...   \n",
       "91368                     0.000999                         0.027972   \n",
       "91372                     0.000999                         0.047952   \n",
       "91397                     0.000999                         0.036963   \n",
       "91437                     0.000999                         0.027972   \n",
       "91441                     0.000999                         0.047952   \n",
       "\n",
       "       p_GassocLgvnT_reactive_permuted  p_LindTgvnG_reactive_permuted  \\\n",
       "74                            0.987013                       0.013986   \n",
       "76                            0.973027                       0.017982   \n",
       "78                            0.984016                       0.017982   \n",
       "85                            0.950050                       0.013986   \n",
       "95                            0.919081                       0.090909   \n",
       "...                                ...                            ...   \n",
       "91368                         0.973027                       0.019980   \n",
       "91372                         0.981019                       0.040959   \n",
       "91397                         0.968032                       0.019980   \n",
       "91437                         0.973027                       0.004995   \n",
       "91441                         0.981019                       0.035964   \n",
       "\n",
       "       transgene_cor_with_virus  transgene_cor_with_virus_pvalue  \n",
       "74                    -0.237486                         0.001603  \n",
       "76                    -0.236257                         0.001698  \n",
       "78                     0.209307                         0.005574  \n",
       "85                    -0.186659                         0.013657  \n",
       "95                    -0.117642                         0.122107  \n",
       "...                         ...                              ...  \n",
       "91368                  0.225220                         0.006094  \n",
       "91372                 -0.197256                         0.016631  \n",
       "91397                  0.290420                         0.000359  \n",
       "91437                  0.225220                         0.006094  \n",
       "91441                 -0.197256                         0.016631  \n",
       "\n",
       "[16624 rows x 19 columns]"
      ]
     },
     "execution_count": 39,
     "metadata": {},
     "output_type": "execute_result"
    }
   ],
   "source": [
    "intresect_virus2host_comprehensive = mmc7_virus2host[mmc7_virus2host['hostGene'].isin(comprehensive)]\n",
    "intresect_virus2host_comprehensive"
   ]
  },
  {
   "cell_type": "markdown",
   "metadata": {},
   "source": [
    "# Filtering \"MMC7\" with sheetname \"host2virus\" in selecting rows with having the comprehensive value in a \"hostGene\" column."
   ]
  },
  {
   "cell_type": "code",
   "execution_count": 40,
   "metadata": {},
   "outputs": [
    {
     "data": {
      "text/html": [
       "<div>\n",
       "<style scoped>\n",
       "    .dataframe tbody tr th:only-of-type {\n",
       "        vertical-align: middle;\n",
       "    }\n",
       "\n",
       "    .dataframe tbody tr th {\n",
       "        vertical-align: top;\n",
       "    }\n",
       "\n",
       "    .dataframe thead th {\n",
       "        text-align: right;\n",
       "    }\n",
       "</style>\n",
       "<table border=\"1\" class=\"dataframe\">\n",
       "  <thead>\n",
       "    <tr style=\"text-align: right;\">\n",
       "      <th></th>\n",
       "      <th>tissue</th>\n",
       "      <th>marker</th>\n",
       "      <th>chr</th>\n",
       "      <th>pos</th>\n",
       "      <th>viral_feature</th>\n",
       "      <th>virus_name</th>\n",
       "      <th>hostGene</th>\n",
       "      <th>p_cit_permuted</th>\n",
       "      <th>p_TassocL_permuted</th>\n",
       "      <th>p_TassocGgvnL_permuted</th>\n",
       "      <th>p_GassocLgvnT_permuted</th>\n",
       "      <th>p_LindTgvnG_permuted</th>\n",
       "      <th>p_cit_reactive_permuted</th>\n",
       "      <th>p_TassocL_reactive_permuted</th>\n",
       "      <th>p_TassocGgvnL_reactive_permuted</th>\n",
       "      <th>p_GassocLgvnT_reactive_permuted</th>\n",
       "      <th>p_LindTgvnG_reactive_permuted</th>\n",
       "      <th>transgene_cor_with_virus</th>\n",
       "      <th>transgene_cor_with_virus_pvalue</th>\n",
       "    </tr>\n",
       "  </thead>\n",
       "  <tbody>\n",
       "    <tr>\n",
       "      <th>2</th>\n",
       "      <td>BM_10</td>\n",
       "      <td>rs506721:193241400:T:G</td>\n",
       "      <td>chr1</td>\n",
       "      <td>193241400</td>\n",
       "      <td>NC_000898.1_gene_138591_140054_Name.U91__ID.ge...</td>\n",
       "      <td>Human herpesvirus 6B, complete genome</td>\n",
       "      <td>GCK</td>\n",
       "      <td>0.072927</td>\n",
       "      <td>0.000999</td>\n",
       "      <td>0.280719</td>\n",
       "      <td>0.944056</td>\n",
       "      <td>0.133866</td>\n",
       "      <td>0.001998</td>\n",
       "      <td>0.000999</td>\n",
       "      <td>0.280719</td>\n",
       "      <td>0.610390</td>\n",
       "      <td>0.068931</td>\n",
       "      <td>0.161049</td>\n",
       "      <td>0.033758</td>\n",
       "    </tr>\n",
       "    <tr>\n",
       "      <th>6</th>\n",
       "      <td>BM_10</td>\n",
       "      <td>rs74130935:193191646:T:C</td>\n",
       "      <td>chr1</td>\n",
       "      <td>193191646</td>\n",
       "      <td>NC_000898.1_gene_138591_140054_Name.U91__ID.ge...</td>\n",
       "      <td>Human herpesvirus 6B, complete genome</td>\n",
       "      <td>GCK</td>\n",
       "      <td>0.074925</td>\n",
       "      <td>0.000999</td>\n",
       "      <td>0.285714</td>\n",
       "      <td>0.950050</td>\n",
       "      <td>0.122877</td>\n",
       "      <td>0.000999</td>\n",
       "      <td>0.000999</td>\n",
       "      <td>0.285714</td>\n",
       "      <td>0.627373</td>\n",
       "      <td>0.046953</td>\n",
       "      <td>0.161049</td>\n",
       "      <td>0.033758</td>\n",
       "    </tr>\n",
       "    <tr>\n",
       "      <th>10</th>\n",
       "      <td>BM_10</td>\n",
       "      <td>rs74130941:193216226:G:T</td>\n",
       "      <td>chr1</td>\n",
       "      <td>193216226</td>\n",
       "      <td>NC_000898.1_gene_138591_140054_Name.U91__ID.ge...</td>\n",
       "      <td>Human herpesvirus 6B, complete genome</td>\n",
       "      <td>GCK</td>\n",
       "      <td>0.074925</td>\n",
       "      <td>0.000999</td>\n",
       "      <td>0.285714</td>\n",
       "      <td>0.950050</td>\n",
       "      <td>0.120879</td>\n",
       "      <td>0.000999</td>\n",
       "      <td>0.000999</td>\n",
       "      <td>0.285714</td>\n",
       "      <td>0.627373</td>\n",
       "      <td>0.083916</td>\n",
       "      <td>0.161049</td>\n",
       "      <td>0.033758</td>\n",
       "    </tr>\n",
       "    <tr>\n",
       "      <th>14</th>\n",
       "      <td>BM_10</td>\n",
       "      <td>rs74130942:193216300:A:T</td>\n",
       "      <td>chr1</td>\n",
       "      <td>193216300</td>\n",
       "      <td>NC_000898.1_gene_138591_140054_Name.U91__ID.ge...</td>\n",
       "      <td>Human herpesvirus 6B, complete genome</td>\n",
       "      <td>GCK</td>\n",
       "      <td>0.074925</td>\n",
       "      <td>0.000999</td>\n",
       "      <td>0.285714</td>\n",
       "      <td>0.950050</td>\n",
       "      <td>0.144855</td>\n",
       "      <td>0.000999</td>\n",
       "      <td>0.000999</td>\n",
       "      <td>0.285714</td>\n",
       "      <td>0.627373</td>\n",
       "      <td>0.071928</td>\n",
       "      <td>0.161049</td>\n",
       "      <td>0.033758</td>\n",
       "    </tr>\n",
       "    <tr>\n",
       "      <th>18</th>\n",
       "      <td>BM_10</td>\n",
       "      <td>rs74909976:193216895:G:A</td>\n",
       "      <td>chr1</td>\n",
       "      <td>193216895</td>\n",
       "      <td>NC_000898.1_gene_138591_140054_Name.U91__ID.ge...</td>\n",
       "      <td>Human herpesvirus 6B, complete genome</td>\n",
       "      <td>GCK</td>\n",
       "      <td>0.072927</td>\n",
       "      <td>0.000999</td>\n",
       "      <td>0.280719</td>\n",
       "      <td>0.944056</td>\n",
       "      <td>0.128871</td>\n",
       "      <td>0.001998</td>\n",
       "      <td>0.000999</td>\n",
       "      <td>0.280719</td>\n",
       "      <td>0.610390</td>\n",
       "      <td>0.074925</td>\n",
       "      <td>0.161049</td>\n",
       "      <td>0.033758</td>\n",
       "    </tr>\n",
       "    <tr>\n",
       "      <th>...</th>\n",
       "      <td>...</td>\n",
       "      <td>...</td>\n",
       "      <td>...</td>\n",
       "      <td>...</td>\n",
       "      <td>...</td>\n",
       "      <td>...</td>\n",
       "      <td>...</td>\n",
       "      <td>...</td>\n",
       "      <td>...</td>\n",
       "      <td>...</td>\n",
       "      <td>...</td>\n",
       "      <td>...</td>\n",
       "      <td>...</td>\n",
       "      <td>...</td>\n",
       "      <td>...</td>\n",
       "      <td>...</td>\n",
       "      <td>...</td>\n",
       "      <td>...</td>\n",
       "      <td>...</td>\n",
       "    </tr>\n",
       "    <tr>\n",
       "      <th>19263</th>\n",
       "      <td>BM_22</td>\n",
       "      <td>rs7525340:52910974:A:C</td>\n",
       "      <td>chr1</td>\n",
       "      <td>52910974</td>\n",
       "      <td>NC_020808.1_region_1_11918__ID.id0</td>\n",
       "      <td>Aravan virus, complete genome</td>\n",
       "      <td>CDK1</td>\n",
       "      <td>0.117882</td>\n",
       "      <td>0.273726</td>\n",
       "      <td>0.232767</td>\n",
       "      <td>0.883117</td>\n",
       "      <td>0.101898</td>\n",
       "      <td>0.031968</td>\n",
       "      <td>0.000999</td>\n",
       "      <td>0.232767</td>\n",
       "      <td>0.883117</td>\n",
       "      <td>0.088911</td>\n",
       "      <td>-0.207446</td>\n",
       "      <td>0.056777</td>\n",
       "    </tr>\n",
       "    <tr>\n",
       "      <th>19273</th>\n",
       "      <td>BM_22</td>\n",
       "      <td>rs76993084:53029552:A:T</td>\n",
       "      <td>chr1</td>\n",
       "      <td>53029552</td>\n",
       "      <td>NC_020808.1_region_1_11918__ID.id0</td>\n",
       "      <td>Aravan virus, complete genome</td>\n",
       "      <td>CDK1</td>\n",
       "      <td>0.099900</td>\n",
       "      <td>0.272727</td>\n",
       "      <td>0.201798</td>\n",
       "      <td>0.901099</td>\n",
       "      <td>0.093906</td>\n",
       "      <td>0.029970</td>\n",
       "      <td>0.000999</td>\n",
       "      <td>0.201798</td>\n",
       "      <td>0.901099</td>\n",
       "      <td>0.096903</td>\n",
       "      <td>-0.207446</td>\n",
       "      <td>0.056777</td>\n",
       "    </tr>\n",
       "    <tr>\n",
       "      <th>19283</th>\n",
       "      <td>BM_22</td>\n",
       "      <td>rs77436971:53036467:A:T</td>\n",
       "      <td>chr1</td>\n",
       "      <td>53036467</td>\n",
       "      <td>NC_020808.1_region_1_11918__ID.id0</td>\n",
       "      <td>Aravan virus, complete genome</td>\n",
       "      <td>CDK1</td>\n",
       "      <td>0.113886</td>\n",
       "      <td>0.249750</td>\n",
       "      <td>0.219780</td>\n",
       "      <td>0.887113</td>\n",
       "      <td>0.111888</td>\n",
       "      <td>0.039960</td>\n",
       "      <td>0.000999</td>\n",
       "      <td>0.219780</td>\n",
       "      <td>0.887113</td>\n",
       "      <td>0.103896</td>\n",
       "      <td>-0.207446</td>\n",
       "      <td>0.056777</td>\n",
       "    </tr>\n",
       "    <tr>\n",
       "      <th>19292</th>\n",
       "      <td>BM_22</td>\n",
       "      <td>rs72903653:52948750:T:C</td>\n",
       "      <td>chr1</td>\n",
       "      <td>52948750</td>\n",
       "      <td>NC_020808.1_region_1_11918__ID.id0</td>\n",
       "      <td>Aravan virus, complete genome</td>\n",
       "      <td>CDK1</td>\n",
       "      <td>0.106893</td>\n",
       "      <td>0.328671</td>\n",
       "      <td>0.199800</td>\n",
       "      <td>0.894106</td>\n",
       "      <td>0.101898</td>\n",
       "      <td>0.038961</td>\n",
       "      <td>0.000999</td>\n",
       "      <td>0.199800</td>\n",
       "      <td>0.894106</td>\n",
       "      <td>0.155844</td>\n",
       "      <td>-0.207446</td>\n",
       "      <td>0.056777</td>\n",
       "    </tr>\n",
       "    <tr>\n",
       "      <th>19304</th>\n",
       "      <td>BM_44</td>\n",
       "      <td>rs1540000</td>\n",
       "      <td>chr21</td>\n",
       "      <td>19666901</td>\n",
       "      <td>NC_020810.1_region_1_11976__ID.id0</td>\n",
       "      <td>Duvenhage virus isolate 86132SA, complete genome</td>\n",
       "      <td>SMG9</td>\n",
       "      <td>0.080919</td>\n",
       "      <td>0.010989</td>\n",
       "      <td>0.099900</td>\n",
       "      <td>0.920080</td>\n",
       "      <td>0.072927</td>\n",
       "      <td>0.049950</td>\n",
       "      <td>0.000999</td>\n",
       "      <td>0.099900</td>\n",
       "      <td>0.920080</td>\n",
       "      <td>0.088911</td>\n",
       "      <td>-0.217410</td>\n",
       "      <td>0.008165</td>\n",
       "    </tr>\n",
       "  </tbody>\n",
       "</table>\n",
       "<p>1925 rows × 19 columns</p>\n",
       "</div>"
      ],
      "text/plain": [
       "      tissue                    marker    chr        pos  \\\n",
       "2      BM_10    rs506721:193241400:T:G   chr1  193241400   \n",
       "6      BM_10  rs74130935:193191646:T:C   chr1  193191646   \n",
       "10     BM_10  rs74130941:193216226:G:T   chr1  193216226   \n",
       "14     BM_10  rs74130942:193216300:A:T   chr1  193216300   \n",
       "18     BM_10  rs74909976:193216895:G:A   chr1  193216895   \n",
       "...      ...                       ...    ...        ...   \n",
       "19263  BM_22    rs7525340:52910974:A:C   chr1   52910974   \n",
       "19273  BM_22   rs76993084:53029552:A:T   chr1   53029552   \n",
       "19283  BM_22   rs77436971:53036467:A:T   chr1   53036467   \n",
       "19292  BM_22   rs72903653:52948750:T:C   chr1   52948750   \n",
       "19304  BM_44                 rs1540000  chr21   19666901   \n",
       "\n",
       "                                           viral_feature  \\\n",
       "2      NC_000898.1_gene_138591_140054_Name.U91__ID.ge...   \n",
       "6      NC_000898.1_gene_138591_140054_Name.U91__ID.ge...   \n",
       "10     NC_000898.1_gene_138591_140054_Name.U91__ID.ge...   \n",
       "14     NC_000898.1_gene_138591_140054_Name.U91__ID.ge...   \n",
       "18     NC_000898.1_gene_138591_140054_Name.U91__ID.ge...   \n",
       "...                                                  ...   \n",
       "19263                 NC_020808.1_region_1_11918__ID.id0   \n",
       "19273                 NC_020808.1_region_1_11918__ID.id0   \n",
       "19283                 NC_020808.1_region_1_11918__ID.id0   \n",
       "19292                 NC_020808.1_region_1_11918__ID.id0   \n",
       "19304                 NC_020810.1_region_1_11976__ID.id0   \n",
       "\n",
       "                                             virus_name hostGene  \\\n",
       "2                 Human herpesvirus 6B, complete genome      GCK   \n",
       "6                 Human herpesvirus 6B, complete genome      GCK   \n",
       "10                Human herpesvirus 6B, complete genome      GCK   \n",
       "14                Human herpesvirus 6B, complete genome      GCK   \n",
       "18                Human herpesvirus 6B, complete genome      GCK   \n",
       "...                                                 ...      ...   \n",
       "19263                     Aravan virus, complete genome     CDK1   \n",
       "19273                     Aravan virus, complete genome     CDK1   \n",
       "19283                     Aravan virus, complete genome     CDK1   \n",
       "19292                     Aravan virus, complete genome     CDK1   \n",
       "19304  Duvenhage virus isolate 86132SA, complete genome     SMG9   \n",
       "\n",
       "       p_cit_permuted  p_TassocL_permuted  p_TassocGgvnL_permuted  \\\n",
       "2            0.072927            0.000999                0.280719   \n",
       "6            0.074925            0.000999                0.285714   \n",
       "10           0.074925            0.000999                0.285714   \n",
       "14           0.074925            0.000999                0.285714   \n",
       "18           0.072927            0.000999                0.280719   \n",
       "...               ...                 ...                     ...   \n",
       "19263        0.117882            0.273726                0.232767   \n",
       "19273        0.099900            0.272727                0.201798   \n",
       "19283        0.113886            0.249750                0.219780   \n",
       "19292        0.106893            0.328671                0.199800   \n",
       "19304        0.080919            0.010989                0.099900   \n",
       "\n",
       "       p_GassocLgvnT_permuted  p_LindTgvnG_permuted  p_cit_reactive_permuted  \\\n",
       "2                    0.944056              0.133866                 0.001998   \n",
       "6                    0.950050              0.122877                 0.000999   \n",
       "10                   0.950050              0.120879                 0.000999   \n",
       "14                   0.950050              0.144855                 0.000999   \n",
       "18                   0.944056              0.128871                 0.001998   \n",
       "...                       ...                   ...                      ...   \n",
       "19263                0.883117              0.101898                 0.031968   \n",
       "19273                0.901099              0.093906                 0.029970   \n",
       "19283                0.887113              0.111888                 0.039960   \n",
       "19292                0.894106              0.101898                 0.038961   \n",
       "19304                0.920080              0.072927                 0.049950   \n",
       "\n",
       "       p_TassocL_reactive_permuted  p_TassocGgvnL_reactive_permuted  \\\n",
       "2                         0.000999                         0.280719   \n",
       "6                         0.000999                         0.285714   \n",
       "10                        0.000999                         0.285714   \n",
       "14                        0.000999                         0.285714   \n",
       "18                        0.000999                         0.280719   \n",
       "...                            ...                              ...   \n",
       "19263                     0.000999                         0.232767   \n",
       "19273                     0.000999                         0.201798   \n",
       "19283                     0.000999                         0.219780   \n",
       "19292                     0.000999                         0.199800   \n",
       "19304                     0.000999                         0.099900   \n",
       "\n",
       "       p_GassocLgvnT_reactive_permuted  p_LindTgvnG_reactive_permuted  \\\n",
       "2                             0.610390                       0.068931   \n",
       "6                             0.627373                       0.046953   \n",
       "10                            0.627373                       0.083916   \n",
       "14                            0.627373                       0.071928   \n",
       "18                            0.610390                       0.074925   \n",
       "...                                ...                            ...   \n",
       "19263                         0.883117                       0.088911   \n",
       "19273                         0.901099                       0.096903   \n",
       "19283                         0.887113                       0.103896   \n",
       "19292                         0.894106                       0.155844   \n",
       "19304                         0.920080                       0.088911   \n",
       "\n",
       "       transgene_cor_with_virus  transgene_cor_with_virus_pvalue  \n",
       "2                      0.161049                         0.033758  \n",
       "6                      0.161049                         0.033758  \n",
       "10                     0.161049                         0.033758  \n",
       "14                     0.161049                         0.033758  \n",
       "18                     0.161049                         0.033758  \n",
       "...                         ...                              ...  \n",
       "19263                 -0.207446                         0.056777  \n",
       "19273                 -0.207446                         0.056777  \n",
       "19283                 -0.207446                         0.056777  \n",
       "19292                 -0.207446                         0.056777  \n",
       "19304                 -0.217410                         0.008165  \n",
       "\n",
       "[1925 rows x 19 columns]"
      ]
     },
     "execution_count": 40,
     "metadata": {},
     "output_type": "execute_result"
    }
   ],
   "source": [
    "intresect_host2virus_comprehensive = mmc7_host2virus[mmc7_host2virus['hostGene'].isin(comprehensive)]\n",
    "intresect_host2virus_comprehensive\n"
   ]
  },
  {
   "cell_type": "markdown",
   "metadata": {},
   "source": [
    "# Length of ATG genes in MMC7-virus2host"
   ]
  },
  {
   "cell_type": "code",
   "execution_count": 45,
   "metadata": {},
   "outputs": [
    {
     "data": {
      "text/plain": [
       "16624"
      ]
     },
     "execution_count": 45,
     "metadata": {},
     "output_type": "execute_result"
    }
   ],
   "source": [
    "len(intresect_virus2host_comprehensive['hostGene'])"
   ]
  },
  {
   "cell_type": "markdown",
   "metadata": {},
   "source": [
    "# Length of ATG genes in MMC7-host2virus"
   ]
  },
  {
   "cell_type": "code",
   "execution_count": 48,
   "metadata": {},
   "outputs": [
    {
     "data": {
      "text/plain": [
       "1925"
      ]
     },
     "execution_count": 48,
     "metadata": {},
     "output_type": "execute_result"
    }
   ],
   "source": [
    "len(intresect_host2virus_comprehensive['hostGene'])"
   ]
  },
  {
   "cell_type": "markdown",
   "metadata": {},
   "source": [
    "#  Length of unique ATG genes in MMC7-virus2host"
   ]
  },
  {
   "cell_type": "code",
   "execution_count": 49,
   "metadata": {},
   "outputs": [
    {
     "data": {
      "text/plain": [
       "410"
      ]
     },
     "execution_count": 49,
     "metadata": {},
     "output_type": "execute_result"
    }
   ],
   "source": [
    "len(set(intresect_virus2host_comprehensive['hostGene']))"
   ]
  },
  {
   "cell_type": "markdown",
   "metadata": {},
   "source": [
    "#  Length of unique ATG genes in MMC7-host2virus"
   ]
  },
  {
   "cell_type": "code",
   "execution_count": 50,
   "metadata": {},
   "outputs": [
    {
     "data": {
      "text/plain": [
       "223"
      ]
     },
     "execution_count": 50,
     "metadata": {},
     "output_type": "execute_result"
    }
   ],
   "source": [
    "len(set(intresect_host2virus_comprehensive['hostGene']))"
   ]
  },
  {
   "cell_type": "markdown",
   "metadata": {},
   "source": [
    "# Filtering based on \"Herpesvirus\""
   ]
  },
  {
   "cell_type": "code",
   "execution_count": 58,
   "metadata": {},
   "outputs": [],
   "source": [
    "list_herpesvirus_virus2host=intresect_virus2host_comprehensive[intresect_virus2host_comprehensive['virus_name'].str.contains('herpesvirus')]\n",
    "list_herpesvirus_host2virus=intresect_host2virus_comprehensive[intresect_host2virus_comprehensive['virus_name'].str.contains('herpesvirus')]"
   ]
  },
  {
   "cell_type": "markdown",
   "metadata": {},
   "source": [
    "# Length of ATG genes in MMC7-virus2host based on \"Herpesvirus\""
   ]
  },
  {
   "cell_type": "code",
   "execution_count": 69,
   "metadata": {},
   "outputs": [
    {
     "data": {
      "text/plain": [
       "4875"
      ]
     },
     "execution_count": 69,
     "metadata": {},
     "output_type": "execute_result"
    }
   ],
   "source": [
    "len(list_herpesvirus_virus2host['hostGene'])"
   ]
  },
  {
   "cell_type": "markdown",
   "metadata": {},
   "source": [
    "#  Length of ATG genes in MMC7-host2virus based on \"Herpesvirus\""
   ]
  },
  {
   "cell_type": "code",
   "execution_count": 70,
   "metadata": {},
   "outputs": [
    {
     "data": {
      "text/plain": [
       "814"
      ]
     },
     "execution_count": 70,
     "metadata": {},
     "output_type": "execute_result"
    }
   ],
   "source": [
    "len(list_herpesvirus_host2virus['hostGene'])"
   ]
  },
  {
   "cell_type": "markdown",
   "metadata": {},
   "source": [
    "# Length of unique ATG genes in MMC7-virus2host based on \"Herpesvirus\""
   ]
  },
  {
   "cell_type": "code",
   "execution_count": 72,
   "metadata": {},
   "outputs": [
    {
     "data": {
      "text/plain": [
       "306"
      ]
     },
     "execution_count": 72,
     "metadata": {},
     "output_type": "execute_result"
    }
   ],
   "source": [
    "len(set(list_herpesvirus_virus2host['hostGene']))"
   ]
  },
  {
   "cell_type": "markdown",
   "metadata": {},
   "source": [
    "#  Length of unique ATG genes in MMC7-host2virus based on \"Herpesvirus\""
   ]
  },
  {
   "cell_type": "code",
   "execution_count": 73,
   "metadata": {},
   "outputs": [
    {
     "data": {
      "text/plain": [
       "165"
      ]
     },
     "execution_count": 73,
     "metadata": {},
     "output_type": "execute_result"
    }
   ],
   "source": [
    "len(set(list_herpesvirus_host2virus['hostGene']))"
   ]
  },
  {
   "cell_type": "markdown",
   "metadata": {},
   "source": [
    "# Saving the filtering MMC7 as a CSV file"
   ]
  },
  {
   "cell_type": "code",
   "execution_count": 16,
   "metadata": {},
   "outputs": [],
   "source": [
    "writer = pd.ExcelWriter('mmc7_Herpesvirus.xlsx', engine='xlsxwriter')\n",
    "list_herpesvirus_virus2host.to_excel(writer, 'virus2host')\n",
    "list_herpesvirus_host2virus.to_excel(writer, 'host2virus')\n",
    "\n",
    "writer.save()"
   ]
  }
 ],
 "metadata": {
  "kernelspec": {
   "display_name": "Python 3",
   "language": "python",
   "name": "python3"
  },
  "language_info": {
   "codemirror_mode": {
    "name": "ipython",
    "version": 3
   },
   "file_extension": ".py",
   "mimetype": "text/x-python",
   "name": "python",
   "nbconvert_exporter": "python",
   "pygments_lexer": "ipython3",
   "version": "3.8.5"
  }
 },
 "nbformat": 4,
 "nbformat_minor": 4
}
